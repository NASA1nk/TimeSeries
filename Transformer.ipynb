{
 "cells": [
  {
   "cell_type": "code",
   "execution_count": 2,
   "metadata": {},
   "outputs": [
    {
     "name": "stdout",
     "output_type": "stream",
     "text": [
      "[11  9 10]\n",
      "11\n"
     ]
    },
    {
     "data": {
      "text/plain": [
       "array([0.66524096, 0.09003057, 0.24472847])"
      ]
     },
     "execution_count": 2,
     "metadata": {},
     "output_type": "execute_result"
    }
   ],
   "source": [
    "\n",
    "import numpy as np\n",
    "\n",
    "def softmax(x):\n",
    "    # 计算每行的最大值\n",
    "    row_max = np.max(x)\n",
    "    print(row_max)\n",
    "    # 每行元素都需要减去对应的最大值，否则求exp(x)会溢出，导致inf情况\n",
    "    x = x - row_max\n",
    "    # 计算e的指数次幂\n",
    "    x_exp = np.exp(x)\n",
    "    x_sum = np.sum(x_exp)\n",
    "    s = x_exp / x_sum\n",
    "    return s\n",
    "\n",
    "a = [11,9,10]\n",
    "A = np.array(a)\n",
    "print(A)\n",
    "softmax(A)"
   ]
  }
 ],
 "metadata": {
  "interpreter": {
   "hash": "5b8ff348b4b228e807b21e5bb089029125e13442d362a29537bdafe9e3a6ed6a"
  },
  "kernelspec": {
   "display_name": "Python 3.8.8 64-bit ('base': conda)",
   "language": "python",
   "name": "python3"
  },
  "language_info": {
   "codemirror_mode": {
    "name": "ipython",
    "version": 3
   },
   "file_extension": ".py",
   "mimetype": "text/x-python",
   "name": "python",
   "nbconvert_exporter": "python",
   "pygments_lexer": "ipython3",
   "version": "3.8.8"
  },
  "orig_nbformat": 4
 },
 "nbformat": 4,
 "nbformat_minor": 2
}
