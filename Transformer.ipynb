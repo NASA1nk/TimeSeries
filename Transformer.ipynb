{
 "cells": [
  {
   "cell_type": "code",
   "execution_count": 2,
   "metadata": {},
   "outputs": [
    {
     "name": "stdout",
     "output_type": "stream",
     "text": [
      "[11  9 10]\n",
      "11\n"
     ]
    },
    {
     "data": {
      "text/plain": [
       "array([0.66524096, 0.09003057, 0.24472847])"
      ]
     },
     "execution_count": 2,
     "metadata": {},
     "output_type": "execute_result"
    }
   ],
   "source": [
    "\n",
    "import numpy as np\n",
    "\n",
    "def softmax(x):\n",
    "    # 计算每行的最大值\n",
    "    row_max = np.max(x)\n",
    "    print(row_max)\n",
    "    # 每行元素都需要减去对应的最大值，否则求exp(x)会溢出，导致inf情况\n",
    "    x = x - row_max\n",
    "    # 计算e的指数次幂\n",
    "    x_exp = np.exp(x)\n",
    "    x_sum = np.sum(x_exp)\n",
    "    s = x_exp / x_sum\n",
    "    return s\n",
    "\n",
    "a = [11,9,10]\n",
    "A = np.array(a)\n",
    "print(A)\n",
    "softmax(A)"
   ]
  },
  {
   "cell_type": "code",
   "execution_count": 2,
   "metadata": {},
   "outputs": [
    {
     "name": "stdout",
     "output_type": "stream",
     "text": [
      "s1:[[0.01562812 0.01562812 0.85326667 0.11547709]\n",
      " [0.23503441 0.23503441 0.31726326 0.21266793]]\n"
     ]
    }
   ],
   "source": [
    "\n",
    "# -*-coding: utf-8 -*-\n",
    "import numpy as np\n",
    " \n",
    "def softmax(x, axis=1):\n",
    "    # 计算每行的最大值\n",
    "    row_max = x.max(axis=axis)\n",
    " \n",
    "    # 每行元素都需要减去对应的最大值，否则求exp(x)会溢出，导致inf情况\n",
    "    # reshape函数用于更改数据的列数和行数，(-1, 1)变为一列，(1, -1)变为一行\n",
    "    row_max=row_max.reshape(-1, 1)\n",
    "    x = x - row_max\n",
    " \n",
    "    # 计算e的指数次幂\n",
    "    x_exp = np.exp(x)\n",
    "    x_sum = np.sum(x_exp, axis=axis, keepdims=True)\n",
    "    s = x_exp / x_sum\n",
    "    return s\n",
    " \n",
    " \n",
    "A = [[1, 1, 5, 3],\n",
    "     [0.2, 0.2, 0.5, 0.1]]\n",
    "A= np.array(A)\n",
    "axis = 1  # 默认计算最后一维\n",
    " \n",
    "# 使用自定义softmax\n",
    "s1 = softmax(A, axis=axis)\n",
    "print(\"s1:{}\".format(s1))"
   ]
  }
 ],
 "metadata": {
  "interpreter": {
   "hash": "5b8ff348b4b228e807b21e5bb089029125e13442d362a29537bdafe9e3a6ed6a"
  },
  "kernelspec": {
   "display_name": "Python 3.8.8 64-bit ('base': conda)",
   "language": "python",
   "name": "python3"
  },
  "language_info": {
   "codemirror_mode": {
    "name": "ipython",
    "version": 3
   },
   "file_extension": ".py",
   "mimetype": "text/x-python",
   "name": "python",
   "nbconvert_exporter": "python",
   "pygments_lexer": "ipython3",
   "version": "3.8.8"
  },
  "orig_nbformat": 4
 },
 "nbformat": 4,
 "nbformat_minor": 2
}
